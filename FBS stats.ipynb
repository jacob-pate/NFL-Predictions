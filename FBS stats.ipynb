{
 "cells": [
  {
   "cell_type": "code",
   "execution_count": 3,
   "id": "e520cf25",
   "metadata": {},
   "outputs": [],
   "source": [
    "import requests"
   ]
  },
  {
   "cell_type": "code",
   "execution_count": 4,
   "id": "f13f5fe6",
   "metadata": {},
   "outputs": [],
   "source": [
    "#scrape the webpages"
   ]
  },
  {
   "cell_type": "code",
   "execution_count": 5,
   "id": "f74fa378",
   "metadata": {},
   "outputs": [],
   "source": [
    "fbs_data_p1_url = 'https://www.ncaa.com/stats/football/fbs/current/individual/469'"
   ]
  },
  {
   "cell_type": "code",
   "execution_count": 6,
   "id": "41a66f86",
   "metadata": {},
   "outputs": [],
   "source": [
    "fbs_data_p2_url = 'https://www.ncaa.com/stats/football/fbs/current/individual/469/p2'"
   ]
  },
  {
   "cell_type": "code",
   "execution_count": 7,
   "id": "3fa283ea",
   "metadata": {},
   "outputs": [],
   "source": [
    "fbs_data_p3_url = 'https://www.ncaa.com/stats/football/fbs/current/individual/469/p3'"
   ]
  },
  {
   "cell_type": "code",
   "execution_count": 8,
   "id": "1504bf4e",
   "metadata": {},
   "outputs": [],
   "source": [
    "fbs_data_p4_url = 'https://www.ncaa.com/stats/football/fbs/current/individual/469/p4'"
   ]
  },
  {
   "cell_type": "code",
   "execution_count": 9,
   "id": "e205e6ca",
   "metadata": {},
   "outputs": [],
   "source": [
    "#name response variables for each webpage"
   ]
  },
  {
   "cell_type": "code",
   "execution_count": 10,
   "id": "e4c66cbf",
   "metadata": {},
   "outputs": [],
   "source": [
    "response1 = requests.get(fbs_data_p1_url)"
   ]
  },
  {
   "cell_type": "code",
   "execution_count": 11,
   "id": "839abc3a",
   "metadata": {},
   "outputs": [],
   "source": [
    "response2 = requests.get(fbs_data_p2_url)"
   ]
  },
  {
   "cell_type": "code",
   "execution_count": 12,
   "id": "b99e566a",
   "metadata": {},
   "outputs": [],
   "source": [
    "response3 = requests.get(fbs_data_p3_url)"
   ]
  },
  {
   "cell_type": "code",
   "execution_count": 13,
   "id": "034a964c",
   "metadata": {},
   "outputs": [],
   "source": [
    "response4 = requests.get(fbs_data_p4_url)"
   ]
  },
  {
   "cell_type": "code",
   "execution_count": 14,
   "id": "ab555b35",
   "metadata": {},
   "outputs": [],
   "source": [
    "#display all status codes so we know the responses are valid"
   ]
  },
  {
   "cell_type": "code",
   "execution_count": 15,
   "id": "aee11245",
   "metadata": {},
   "outputs": [
    {
     "data": {
      "text/plain": [
       "200"
      ]
     },
     "execution_count": 15,
     "metadata": {},
     "output_type": "execute_result"
    }
   ],
   "source": [
    "response1.status_code"
   ]
  },
  {
   "cell_type": "code",
   "execution_count": 16,
   "id": "c6a2fe34",
   "metadata": {},
   "outputs": [
    {
     "data": {
      "text/plain": [
       "200"
      ]
     },
     "execution_count": 16,
     "metadata": {},
     "output_type": "execute_result"
    }
   ],
   "source": [
    "response2.status_code"
   ]
  },
  {
   "cell_type": "code",
   "execution_count": 17,
   "id": "916e407b",
   "metadata": {},
   "outputs": [
    {
     "data": {
      "text/plain": [
       "200"
      ]
     },
     "execution_count": 17,
     "metadata": {},
     "output_type": "execute_result"
    }
   ],
   "source": [
    "response3.status_code"
   ]
  },
  {
   "cell_type": "code",
   "execution_count": 18,
   "id": "e95266d1",
   "metadata": {},
   "outputs": [
    {
     "data": {
      "text/plain": [
       "200"
      ]
     },
     "execution_count": 18,
     "metadata": {},
     "output_type": "execute_result"
    }
   ],
   "source": [
    "response4.status_code"
   ]
  },
  {
   "cell_type": "code",
   "execution_count": 19,
   "id": "7aae0001",
   "metadata": {},
   "outputs": [],
   "source": [
    "#i'd like to loop through the status codes and only print something if the code isn't 200-299"
   ]
  },
  {
   "cell_type": "code",
   "execution_count": 20,
   "id": "a3821b91",
   "metadata": {},
   "outputs": [],
   "source": [
    "#name page content variables that point to the text"
   ]
  },
  {
   "cell_type": "code",
   "execution_count": 21,
   "id": "806dc270",
   "metadata": {},
   "outputs": [],
   "source": [
    "fbs_pc1 = response1.text"
   ]
  },
  {
   "cell_type": "code",
   "execution_count": 22,
   "id": "7e1aafe5",
   "metadata": {},
   "outputs": [],
   "source": [
    "fbs_pc2 = response2.text"
   ]
  },
  {
   "cell_type": "code",
   "execution_count": 23,
   "id": "c40ef05e",
   "metadata": {},
   "outputs": [],
   "source": [
    "fbs_pc3 = response3.text"
   ]
  },
  {
   "cell_type": "code",
   "execution_count": 24,
   "id": "d6a3620c",
   "metadata": {},
   "outputs": [],
   "source": [
    "fbs_pc4 = response4.text"
   ]
  },
  {
   "cell_type": "code",
   "execution_count": 25,
   "id": "24963c38",
   "metadata": {},
   "outputs": [],
   "source": [
    "#idk if i need this part, but I'm leaving it in for now"
   ]
  },
  {
   "cell_type": "code",
   "execution_count": 26,
   "id": "c3282893",
   "metadata": {},
   "outputs": [],
   "source": [
    "#with open('webpage.html', 'w') as f:\n",
    "    #f.write(page_contents)"
   ]
  },
  {
   "cell_type": "code",
   "execution_count": 27,
   "id": "28c9c5b4",
   "metadata": {},
   "outputs": [],
   "source": [
    "#get beautifulsoup"
   ]
  },
  {
   "cell_type": "code",
   "execution_count": 28,
   "id": "27fa0f14",
   "metadata": {},
   "outputs": [],
   "source": [
    "!pip install beautifulsoup4 --upgrade --quiet"
   ]
  },
  {
   "cell_type": "code",
   "execution_count": 29,
   "id": "eebc10d0",
   "metadata": {},
   "outputs": [],
   "source": [
    "from bs4 import BeautifulSoup"
   ]
  },
  {
   "cell_type": "code",
   "execution_count": 30,
   "id": "a7004caa",
   "metadata": {},
   "outputs": [],
   "source": [
    "#name 4 bs docs that carry the page contents"
   ]
  },
  {
   "cell_type": "code",
   "execution_count": 31,
   "id": "598608ab",
   "metadata": {},
   "outputs": [],
   "source": [
    "fbs_doc1 = BeautifulSoup(fbs_pc1, 'html.parser')"
   ]
  },
  {
   "cell_type": "code",
   "execution_count": 32,
   "id": "84f97788",
   "metadata": {},
   "outputs": [],
   "source": [
    "fbs_doc2 = BeautifulSoup(fbs_pc2, 'html.parser')"
   ]
  },
  {
   "cell_type": "code",
   "execution_count": 33,
   "id": "5b73eb66",
   "metadata": {},
   "outputs": [],
   "source": [
    "fbs_doc3 = BeautifulSoup(fbs_pc3, 'html.parser')"
   ]
  },
  {
   "cell_type": "code",
   "execution_count": 34,
   "id": "c126fa88",
   "metadata": {},
   "outputs": [],
   "source": [
    "fbs_doc4 = BeautifulSoup(fbs_pc4, 'html.parser')"
   ]
  },
  {
   "cell_type": "code",
   "execution_count": 35,
   "id": "69b2b93d",
   "metadata": {},
   "outputs": [],
   "source": [
    "#get the table row tags from each doc"
   ]
  },
  {
   "cell_type": "code",
   "execution_count": 37,
   "id": "3620f558",
   "metadata": {},
   "outputs": [],
   "source": [
    "tr_tags1 = fbs_doc1.find_all('tr')"
   ]
  },
  {
   "cell_type": "code",
   "execution_count": 38,
   "id": "afb50ba6",
   "metadata": {},
   "outputs": [],
   "source": [
    "tr_tags2 = fbs_doc2.find_all('tr')"
   ]
  },
  {
   "cell_type": "code",
   "execution_count": 39,
   "id": "7170b234",
   "metadata": {},
   "outputs": [],
   "source": [
    "tr_tags3 = fbs_doc3.find_all('tr')"
   ]
  },
  {
   "cell_type": "code",
   "execution_count": 40,
   "id": "c17c370a",
   "metadata": {},
   "outputs": [],
   "source": [
    "tr_tags4 = fbs_doc4.find_all('tr')"
   ]
  },
  {
   "cell_type": "code",
   "execution_count": 39,
   "id": "89422be2",
   "metadata": {},
   "outputs": [],
   "source": [
    "#get ast"
   ]
  },
  {
   "cell_type": "code",
   "execution_count": 40,
   "id": "37d56d2e",
   "metadata": {},
   "outputs": [],
   "source": [
    "import ast"
   ]
  },
  {
   "cell_type": "code",
   "execution_count": 41,
   "id": "d147e25a",
   "metadata": {},
   "outputs": [],
   "source": [
    "#get pandas"
   ]
  },
  {
   "cell_type": "code",
   "execution_count": 42,
   "id": "824a1c0a",
   "metadata": {},
   "outputs": [],
   "source": [
    "import pandas as pd"
   ]
  },
  {
   "cell_type": "code",
   "execution_count": 43,
   "id": "1427ae4c",
   "metadata": {},
   "outputs": [],
   "source": [
    "#name df columns"
   ]
  },
  {
   "cell_type": "code",
   "execution_count": 44,
   "id": "79ffe5ca",
   "metadata": {},
   "outputs": [],
   "source": [
    "columns = ['Rank', 'Name', 'Team', 'Cl', 'Position','G', 'Rush', 'Rush TD', 'Rush Yds']"
   ]
  },
  {
   "cell_type": "code",
   "execution_count": 45,
   "id": "6b09c1f2",
   "metadata": {},
   "outputs": [],
   "source": [
    "#make a function to get the string list into a workable format"
   ]
  },
  {
   "cell_type": "code",
   "execution_count": 46,
   "id": "25e76247",
   "metadata": {},
   "outputs": [],
   "source": [
    "def pull_out_row(tr_tag_row):\n",
    "    new_info = str(tr_tag_row)\n",
    "    new_info = new_info.replace('\"', '')\n",
    "    new_info = new_info.replace('<td>','\"')\n",
    "    new_info = new_info.replace('</td>','\",')\n",
    "    new_info = new_info.replace('<tr>', '[')\n",
    "    new_info = new_info.replace('</tr>', ']')\n",
    "    new_info = new_info.replace(',\\n]', ']')\n",
    "    new_info = ast.literal_eval(new_info)\n",
    "    \n",
    "    new_info = pd.DataFrame(new_info).T\n",
    "    \n",
    "    return new_info"
   ]
  },
  {
   "cell_type": "code",
   "execution_count": 47,
   "id": "c9366008",
   "metadata": {},
   "outputs": [],
   "source": [
    "#create a function to create a table from all of our formatted rows"
   ]
  },
  {
   "cell_type": "code",
   "execution_count": 48,
   "id": "2b4b4e3e",
   "metadata": {},
   "outputs": [],
   "source": [
    "def parse_table(table, columns):\n",
    "    table = table[1:]\n",
    "    \n",
    "    master_df = pull_out_row(table.pop(0))\n",
    "\n",
    "    for i in table:\n",
    "        temp = pull_out_row(i)\n",
    "        master_df = master_df.append(temp, ignore_index = True)\n",
    "\n",
    "    master_df.columns = columns\n",
    "\n",
    "    return master_df"
   ]
  },
  {
   "cell_type": "code",
   "execution_count": 53,
   "id": "69a2f31c",
   "metadata": {},
   "outputs": [],
   "source": [
    "df1 = parse_table(tr_tags1, columns)"
   ]
  },
  {
   "cell_type": "code",
   "execution_count": 54,
   "id": "1fbce9af",
   "metadata": {},
   "outputs": [],
   "source": [
    "df2 = parse_table(tr_tags2, columns)"
   ]
  },
  {
   "cell_type": "code",
   "execution_count": 55,
   "id": "00cd6060",
   "metadata": {},
   "outputs": [],
   "source": [
    "df3 = parse_table(tr_tags3, columns)"
   ]
  },
  {
   "cell_type": "code",
   "execution_count": 56,
   "id": "83ae7585",
   "metadata": {
    "scrolled": true
   },
   "outputs": [],
   "source": [
    "df4 = parse_table(tr_tags4, columns)"
   ]
  },
  {
   "cell_type": "code",
   "execution_count": 58,
   "id": "e3627c06",
   "metadata": {},
   "outputs": [],
   "source": [
    "bigtable_fbs = df1.append(df2, ignore_index = True)"
   ]
  },
  {
   "cell_type": "code",
   "execution_count": 60,
   "id": "cb5b5017",
   "metadata": {},
   "outputs": [],
   "source": [
    "bigtable_fbs = bigtable.append(df3, ignore_index = True)"
   ]
  },
  {
   "cell_type": "code",
   "execution_count": 61,
   "id": "4ed1c434",
   "metadata": {},
   "outputs": [],
   "source": [
    "bigtable_fbs = bigtable.append(df4, ignore_index = True)"
   ]
  },
  {
   "cell_type": "code",
   "execution_count": 62,
   "id": "ffffed1e",
   "metadata": {},
   "outputs": [
    {
     "data": {
      "text/html": [
       "<div>\n",
       "<style scoped>\n",
       "    .dataframe tbody tr th:only-of-type {\n",
       "        vertical-align: middle;\n",
       "    }\n",
       "\n",
       "    .dataframe tbody tr th {\n",
       "        vertical-align: top;\n",
       "    }\n",
       "\n",
       "    .dataframe thead th {\n",
       "        text-align: right;\n",
       "    }\n",
       "</style>\n",
       "<table border=\"1\" class=\"dataframe\">\n",
       "  <thead>\n",
       "    <tr style=\"text-align: right;\">\n",
       "      <th></th>\n",
       "      <th>Rank</th>\n",
       "      <th>Name</th>\n",
       "      <th>Team</th>\n",
       "      <th>Cl</th>\n",
       "      <th>Position</th>\n",
       "      <th>G</th>\n",
       "      <th>Rush</th>\n",
       "      <th>Rush TD</th>\n",
       "      <th>Rush Yds</th>\n",
       "    </tr>\n",
       "  </thead>\n",
       "  <tbody>\n",
       "    <tr>\n",
       "      <th>0</th>\n",
       "      <td>1</td>\n",
       "      <td>Lew Nichols</td>\n",
       "      <td>&lt;img src=https://i.turner.ncaa.com/sites/defau...</td>\n",
       "      <td>Fr.</td>\n",
       "      <td>RB</td>\n",
       "      <td>12</td>\n",
       "      <td>311</td>\n",
       "      <td>15</td>\n",
       "      <td>1710</td>\n",
       "    </tr>\n",
       "    <tr>\n",
       "      <th>1</th>\n",
       "      <td>2</td>\n",
       "      <td>Kenneth Walker III</td>\n",
       "      <td>&lt;img src=https://i.turner.ncaa.com/sites/defau...</td>\n",
       "      <td>Jr.</td>\n",
       "      <td>RB</td>\n",
       "      <td>12</td>\n",
       "      <td>263</td>\n",
       "      <td>18</td>\n",
       "      <td>1636</td>\n",
       "    </tr>\n",
       "    <tr>\n",
       "      <th>2</th>\n",
       "      <td>3</td>\n",
       "      <td>Tyler Badie</td>\n",
       "      <td>&lt;img src=https://i.turner.ncaa.com/sites/defau...</td>\n",
       "      <td>Sr.</td>\n",
       "      <td>RB</td>\n",
       "      <td>12</td>\n",
       "      <td>268</td>\n",
       "      <td>14</td>\n",
       "      <td>1604</td>\n",
       "    </tr>\n",
       "    <tr>\n",
       "      <th>3</th>\n",
       "      <td>4</td>\n",
       "      <td>Tyler Allgeier</td>\n",
       "      <td>&lt;img src=https://i.turner.ncaa.com/sites/defau...</td>\n",
       "      <td>So.</td>\n",
       "      <td>RB</td>\n",
       "      <td>13</td>\n",
       "      <td>276</td>\n",
       "      <td>23</td>\n",
       "      <td>1601</td>\n",
       "    </tr>\n",
       "    <tr>\n",
       "      <th>4</th>\n",
       "      <td>5</td>\n",
       "      <td>Sean Tucker</td>\n",
       "      <td>&lt;img src=https://i.turner.ncaa.com/sites/defau...</td>\n",
       "      <td>So.</td>\n",
       "      <td>RB</td>\n",
       "      <td>12</td>\n",
       "      <td>246</td>\n",
       "      <td>12</td>\n",
       "      <td>1496</td>\n",
       "    </tr>\n",
       "    <tr>\n",
       "      <th>...</th>\n",
       "      <td>...</td>\n",
       "      <td>...</td>\n",
       "      <td>...</td>\n",
       "      <td>...</td>\n",
       "      <td>...</td>\n",
       "      <td>...</td>\n",
       "      <td>...</td>\n",
       "      <td>...</td>\n",
       "      <td>...</td>\n",
       "    </tr>\n",
       "    <tr>\n",
       "      <th>195</th>\n",
       "      <td>196</td>\n",
       "      <td>Tyhier Tyler</td>\n",
       "      <td>&lt;img src=https://i.turner.ncaa.com/sites/defau...</td>\n",
       "      <td>Jr.</td>\n",
       "      <td>QB</td>\n",
       "      <td>11</td>\n",
       "      <td>125</td>\n",
       "      <td>7</td>\n",
       "      <td>486</td>\n",
       "    </tr>\n",
       "    <tr>\n",
       "      <th>196</th>\n",
       "      <td>197</td>\n",
       "      <td>Rodney Hammond Jr.</td>\n",
       "      <td>&lt;img src=https://i.turner.ncaa.com/sites/defau...</td>\n",
       "      <td>Fr.</td>\n",
       "      <td>RB</td>\n",
       "      <td>11</td>\n",
       "      <td>98</td>\n",
       "      <td>5</td>\n",
       "      <td>484</td>\n",
       "    </tr>\n",
       "    <tr>\n",
       "      <th>197</th>\n",
       "      <td>198</td>\n",
       "      <td>Justice Ellison</td>\n",
       "      <td>&lt;img src=https://i.turner.ncaa.com/sites/defau...</td>\n",
       "      <td>Fr.</td>\n",
       "      <td>RB</td>\n",
       "      <td>10</td>\n",
       "      <td>98</td>\n",
       "      <td>6</td>\n",
       "      <td>482</td>\n",
       "    </tr>\n",
       "    <tr>\n",
       "      <th>198</th>\n",
       "      <td>-</td>\n",
       "      <td>Levi Williams</td>\n",
       "      <td>&lt;img src=https://i.turner.ncaa.com/sites/defau...</td>\n",
       "      <td>So.</td>\n",
       "      <td>QB</td>\n",
       "      <td>9</td>\n",
       "      <td>72</td>\n",
       "      <td>5</td>\n",
       "      <td>482</td>\n",
       "    </tr>\n",
       "    <tr>\n",
       "      <th>199</th>\n",
       "      <td>200</td>\n",
       "      <td>Kelly Joiner Jr.</td>\n",
       "      <td>&lt;img src=https://i.turner.ncaa.com/sites/defau...</td>\n",
       "      <td>So.</td>\n",
       "      <td>RB</td>\n",
       "      <td>12</td>\n",
       "      <td>78</td>\n",
       "      <td>2</td>\n",
       "      <td>480</td>\n",
       "    </tr>\n",
       "  </tbody>\n",
       "</table>\n",
       "<p>200 rows × 9 columns</p>\n",
       "</div>"
      ],
      "text/plain": [
       "    Rank                Name  \\\n",
       "0      1         Lew Nichols   \n",
       "1      2  Kenneth Walker III   \n",
       "2      3         Tyler Badie   \n",
       "3      4      Tyler Allgeier   \n",
       "4      5         Sean Tucker   \n",
       "..   ...                 ...   \n",
       "195  196        Tyhier Tyler   \n",
       "196  197  Rodney Hammond Jr.   \n",
       "197  198     Justice Ellison   \n",
       "198    -       Levi Williams   \n",
       "199  200    Kelly Joiner Jr.   \n",
       "\n",
       "                                                  Team   Cl Position   G Rush  \\\n",
       "0    <img src=https://i.turner.ncaa.com/sites/defau...  Fr.       RB  12  311   \n",
       "1    <img src=https://i.turner.ncaa.com/sites/defau...  Jr.       RB  12  263   \n",
       "2    <img src=https://i.turner.ncaa.com/sites/defau...  Sr.       RB  12  268   \n",
       "3    <img src=https://i.turner.ncaa.com/sites/defau...  So.       RB  13  276   \n",
       "4    <img src=https://i.turner.ncaa.com/sites/defau...  So.       RB  12  246   \n",
       "..                                                 ...  ...      ...  ..  ...   \n",
       "195  <img src=https://i.turner.ncaa.com/sites/defau...  Jr.       QB  11  125   \n",
       "196  <img src=https://i.turner.ncaa.com/sites/defau...  Fr.       RB  11   98   \n",
       "197  <img src=https://i.turner.ncaa.com/sites/defau...  Fr.       RB  10   98   \n",
       "198  <img src=https://i.turner.ncaa.com/sites/defau...  So.       QB   9   72   \n",
       "199  <img src=https://i.turner.ncaa.com/sites/defau...  So.       RB  12   78   \n",
       "\n",
       "    Rush TD Rush Yds  \n",
       "0        15     1710  \n",
       "1        18     1636  \n",
       "2        14     1604  \n",
       "3        23     1601  \n",
       "4        12     1496  \n",
       "..      ...      ...  \n",
       "195       7      486  \n",
       "196       5      484  \n",
       "197       6      482  \n",
       "198       5      482  \n",
       "199       2      480  \n",
       "\n",
       "[200 rows x 9 columns]"
      ]
     },
     "execution_count": 62,
     "metadata": {},
     "output_type": "execute_result"
    }
   ],
   "source": [
    "bigtable_fbs"
   ]
  },
  {
   "cell_type": "code",
   "execution_count": 63,
   "id": "06fd4bce",
   "metadata": {},
   "outputs": [],
   "source": [
    "bigtable_fbs.to_csv('FBS_bigTable.csv')"
   ]
  },
  {
   "cell_type": "code",
   "execution_count": null,
   "id": "33a232e6",
   "metadata": {},
   "outputs": [],
   "source": []
  }
 ],
 "metadata": {
  "kernelspec": {
   "display_name": "Python 3 (ipykernel)",
   "language": "python",
   "name": "python3"
  },
  "language_info": {
   "codemirror_mode": {
    "name": "ipython",
    "version": 3
   },
   "file_extension": ".py",
   "mimetype": "text/x-python",
   "name": "python",
   "nbconvert_exporter": "python",
   "pygments_lexer": "ipython3",
   "version": "3.9.7"
  }
 },
 "nbformat": 4,
 "nbformat_minor": 5
}
